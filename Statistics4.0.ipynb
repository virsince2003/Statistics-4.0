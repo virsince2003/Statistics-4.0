{
 "cells": [
  {
   "cell_type": "markdown",
   "id": "d49a48d4-898d-4c72-b9b6-fa9af29ba237",
   "metadata": {},
   "source": [
    "Q1: What are the Probability Mass Function (PMF) and Probability Density Function (PDF)? Explain with\n",
    "an example."
   ]
  },
  {
   "cell_type": "markdown",
   "id": "6d42c9e1-0fdf-444a-ba62-00d1d9982136",
   "metadata": {},
   "source": [
    "    PMF is for discrete random variables, providing probabilities for specific values, while PDF is for continuous random variables, representing probabilities as the density over intervals.\n",
    "    \n",
    "Probability Mass Function (PMF):\n",
    "\n",
    "    Used for discrete random variables.\n",
    "    Gives the probability of a specific value occurring.\n",
    "    Sums to 1 over all possible values.\n",
    "Example: Rolling a fair six-sided die. PMF:\n",
    "\n",
    "X    | 1 | 2 | 3 | 4 | 5 | 6 |\n",
    "\n",
    "PMF  | 1/6 | 1/6 | 1/6 | 1/6 | 1/6 | 1/6 |\n",
    "\n",
    "Probability Density Function (PDF):\n",
    "\n",
    "    Used for continuous random variables.\n",
    "    Represents the density of probabilities over intervals.\n",
    "    Area under the curve corresponds to probabilities.\n",
    "Example: Standard normal distribution. (PDF)\n",
    "\n",
    "PDF(Z) = (1 / √(2π)) * e^((-Z^2) / 2)\n"
   ]
  },
  {
   "cell_type": "markdown",
   "id": "ce71682a-e83c-4867-ba68-e99ca24af16e",
   "metadata": {},
   "source": [
    "Q2: What is Cumulative Density Function (CDF)? Explain with an example. Why CDF is used?"
   ]
  },
  {
   "cell_type": "markdown",
   "id": "8d01dc3c-acdb-41bb-a0cf-7f54ebffc79f",
   "metadata": {},
   "source": [
    "The Cumulative Distribution Function (CDF):\n",
    "\n",
    "    For a discrete random variable, it gives the cumulative probabilities for all possible values.\n",
    "    For a continuous random variable, it represents the probability that the variable is less than or equal to a specific value.\n",
    "    It provides a complete picture of the probabilities associated with a random variable and is used for calculating probabilities over intervals and ranges of values.\n",
    "    The CDF is important in statistical analysis, hypothesis testing, and modeling to understand the distribution of data and compute probabilities for various scenarios."
   ]
  },
  {
   "cell_type": "markdown",
   "id": "69c8100e-429d-449a-b6d4-fba8b8b83d2d",
   "metadata": {},
   "source": [
    "Q3: What are some examples of situations where the normal distribution might be used as a model?\n",
    "Explain how the parameters of the normal distribution relate to the shape of the distribution."
   ]
  },
  {
   "cell_type": "markdown",
   "id": "bede6598-cc17-4664-bb67-97f678e3c288",
   "metadata": {},
   "source": [
    "    The normal distribution is used to model various real-world phenomena such as heights of adults, IQ scores, measurement errors, test scores, and natural phenomena.\n",
    "    Mean (μ) sets the center of the distribution, and the peak occurs at this value.\n",
    "    Standard deviation (σ) controls the spread of data points around the mean. Smaller σ results in a narrower distribution, while larger σ leads to a wider distribution."
   ]
  },
  {
   "cell_type": "markdown",
   "id": "0f608a3c-9de0-4396-9065-a0241211a23f",
   "metadata": {},
   "source": [
    "Q4: Explain the importance of Normal Distribution. Give a few real-life examples of Normal\n",
    "Distribution."
   ]
  },
  {
   "cell_type": "markdown",
   "id": "199990c0-bf7b-4086-b682-39374a6cba87",
   "metadata": {},
   "source": [
    "The importance of the normal distribution lies in its widespread applicability and key properties:\n",
    "\n",
    "    Central Limit Theorem: It allows for the approximation of sample means from any distribution to be normally distributed, enabling powerful inferential statistics.\n",
    "    \n",
    "    Easy Mathematical Properties: Simple and well-defined mathematical characteristics make it convenient for analytical and computational procedures.\n",
    "\n",
    "    Common Modeling Assumption: Often used as an initial assumption in modeling real-world situations due to its prevalence in natural and social phenomena.\n",
    "\n",
    "    Statistical Inference: Crucial for estimating population parameters, conducting hypothesis tests, and defining confidence intervals.\n",
    "\n",
    "Real-life examples:\n",
    "\n",
    "    Heights of Adults\n",
    "    IQ Scores\n",
    "    Measurement Errors\n",
    "    Test Scores\n",
    "    Random Variables (e.g., weights, customer arrivals)"
   ]
  },
  {
   "cell_type": "markdown",
   "id": "4fdc9072-9bfc-426e-885e-e2f497b1de2e",
   "metadata": {},
   "source": [
    "Q5: What is Bernaulli Distribution? Give an Example. What is the difference between Bernoulli\n",
    "Distribution and Binomial Distribution?"
   ]
  },
  {
   "cell_type": "markdown",
   "id": "b92a2010-d62b-4034-8a32-22c9393f456a",
   "metadata": {},
   "source": [
    "Bernoulli Distribution:\n",
    "\n",
    "    Models a single trial with two possible outcomes: success (1) and failure (0).\n",
    "    Described by the probability of success, 'p'.\n",
    "Example: Tossing a fair coin once - \"heads\" (success) or \"tails\" (failure).\n",
    "\n",
    "Binomial Distribution:\n",
    "\n",
    "    Models multiple independent trials with two outcomes: success (1) and failure (0).\n",
    "    Describes the number of successes ('k') in 'n' trials, each having the same probability of success, 'p'.\n",
    "Difference:\n",
    "\n",
    "    Bernoulli is for a single trial, while Binomial is for multiple independent trials.\n",
    "    The Binomial distribution generalizes the Bernoulli distribution to count the number of successes in 'n' trials.\n",
    "\n",
    "\n",
    "\n"
   ]
  },
  {
   "cell_type": "markdown",
   "id": "b4467503-a2c1-4b96-b885-f26af7ff17ea",
   "metadata": {},
   "source": [
    "Q6. Consider a dataset with a mean of 50 and a standard deviation of 10. If we assume that the dataset\n",
    "is normally distributed, what is the probability that a randomly selected observation will be greater\n",
    "than 60? Use the appropriate formula and show your calculations."
   ]
  },
  {
   "cell_type": "markdown",
   "id": "d6486f20-75ef-43ed-bb29-f67151ae3d7d",
   "metadata": {},
   "source": [
    "The formula to calculate the Z-score is:\n",
    "    \n",
    "    Z = (X - μ) / σ\n",
    "\n"
   ]
  },
  {
   "cell_type": "code",
   "execution_count": 1,
   "id": "c4affdfc-6155-4e75-92f4-9e4f47dca2ad",
   "metadata": {},
   "outputs": [],
   "source": [
    "Z = (60 - 50) / 10\n",
    "Z = 1"
   ]
  },
  {
   "cell_type": "markdown",
   "id": "770dadb6-8d4b-46a2-bd02-92603955457e",
   "metadata": {},
   "source": [
    "we use the Z-table to find the probability corresponding to a Z-score of 1. The Z-table provides the cumulative probability from the left tail of the standard normal distribution."
   ]
  },
  {
   "cell_type": "markdown",
   "id": "1dfde001-3317-46c3-8173-f1b4e15df6a4",
   "metadata": {},
   "source": [
    "From the Z-table, the probability of getting a Z-score less than 1 is approximately 0.8413. Since we want the probability of the Z-score being greater than 1 (corresponding to values greater than 60), we subtract the probability from 1:"
   ]
  },
  {
   "cell_type": "markdown",
   "id": "c26eb8dd-1339-4c39-8777-82225e858e3e",
   "metadata": {},
   "source": [
    "Probability (Z > 1) = 1 - 0.8413 = 0.1587"
   ]
  },
  {
   "cell_type": "markdown",
   "id": "80caa8ec-3b1d-4e7c-9f78-b7cbfda9570b",
   "metadata": {},
   "source": [
    "        So, the probability that a randomly selected observation from this dataset will be greater than 60 is approximately 0.1587 or 15.87%."
   ]
  },
  {
   "cell_type": "markdown",
   "id": "6ec611d2-df08-4626-8f5c-2341c1335e22",
   "metadata": {},
   "source": [
    "Q7: Explain uniform Distribution with an example."
   ]
  },
  {
   "cell_type": "markdown",
   "id": "c0988f1f-2cd6-40d3-89f6-f49d92eb4168",
   "metadata": {},
   "source": [
    "The uniform distribution is a continuous probability distribution where all values within a specified range have equal probability.\n",
    "\n",
    "    Example: Waiting time (in minutes) for a bus arriving every 10 to 15 minutes follows a uniform distribution U(10, 15). The probability of waiting between 12 and 14 minutes is 40%."
   ]
  },
  {
   "cell_type": "markdown",
   "id": "676bf5e5-53d0-411b-90f1-c8cc2c208d8a",
   "metadata": {},
   "source": [
    "Q8: What is the z score? State the importance of the z score."
   ]
  },
  {
   "cell_type": "markdown",
   "id": "442fce8b-90b2-4258-ac50-d433f18e780e",
   "metadata": {},
   "source": [
    "\n",
    "The z-score is a standardized measure representing the number of standard deviations a data point is from the mean. Its importance lies in standardization, outlier detection, data comparison, and probability calculations in the context of normal distributions. It allows easy comparisons between different datasets and helps identify unusual or extreme values"
   ]
  },
  {
   "cell_type": "markdown",
   "id": "c0dff3e5-d77b-490b-b1b7-ebfe16a213b1",
   "metadata": {},
   "source": [
    "Q9: What is Central Limit Theorem? State the significance of the Central Limit Theorem."
   ]
  },
  {
   "cell_type": "markdown",
   "id": "2fc944bc-5a34-4f78-805a-e5d202834c7a",
   "metadata": {},
   "source": [
    "    The Central Limit Theorem (CLT) states that the distribution of the sample means, taken from a large enough sample of any population, will approximately follow a normal distribution, regardless of the shape of the original population's distribution. This holds true as long as the sample size is sufficiently large.\n",
    "\n",
    "Significance of the Central Limit Theorem:\n",
    "\n",
    "    The CLT is a fundamental concept in statistics, as it allows us to make inferences about population parameters based on sample means.\n",
    "    It justifies the use of the normal distribution for making statistical inferences, even when the underlying population is not normally distributed.\n",
    "    It provides a solid foundation for hypothesis testing and confidence interval estimation, making statistical analyses feasible for various types of data.\n",
    "    The CLT is widely applicable in real-world scenarios, making it a key tool for statistical modeling and analysis."
   ]
  },
  {
   "cell_type": "markdown",
   "id": "6f70f385-c24e-4965-8728-c0d6aa6e940a",
   "metadata": {},
   "source": [
    "Q10: State the assumptions of the Central Limit Theorem."
   ]
  },
  {
   "cell_type": "markdown",
   "id": "80414cd0-8823-48a1-aa88-2daee3bde3a0",
   "metadata": {},
   "source": [
    "The assumptions of the Central Limit Theorem are:\n",
    "\n",
    "    Random Sampling\n",
    "    Sufficient Sample Size (usually at least 30)\n",
    "    Finite Variance in the population."
   ]
  }
 ],
 "metadata": {
  "kernelspec": {
   "display_name": "Python 3 (ipykernel)",
   "language": "python",
   "name": "python3"
  },
  "language_info": {
   "codemirror_mode": {
    "name": "ipython",
    "version": 3
   },
   "file_extension": ".py",
   "mimetype": "text/x-python",
   "name": "python",
   "nbconvert_exporter": "python",
   "pygments_lexer": "ipython3",
   "version": "3.10.8"
  }
 },
 "nbformat": 4,
 "nbformat_minor": 5
}
